{
 "cells": [
  {
   "cell_type": "markdown",
   "id": "5d973bc3",
   "metadata": {},
   "source": [
    "## ДЗ из урока №4"
   ]
  },
  {
   "cell_type": "markdown",
   "id": "45b23cdd",
   "metadata": {},
   "source": [
    "##### 1) Напишите функцию, извлекающую корень n-й степени из числа x. По умолчанию def будет извлекать квадратный корень"
   ]
  },
  {
   "cell_type": "code",
   "execution_count": 52,
   "id": "69dcd565",
   "metadata": {},
   "outputs": [],
   "source": [
    "def root(x, n = 2):\n",
    "    res = round(x**(1 / n), 2)\n",
    "    print(f'Корень {n} степени из числа {x} равен: ')\n",
    "    return res"
   ]
  },
  {
   "cell_type": "code",
   "execution_count": 53,
   "id": "191f8399",
   "metadata": {},
   "outputs": [
    {
     "name": "stdout",
     "output_type": "stream",
     "text": [
      "Корень 3 степени из числа 8 равен: \n"
     ]
    },
    {
     "data": {
      "text/plain": [
       "2.0"
      ]
     },
     "execution_count": 53,
     "metadata": {},
     "output_type": "execute_result"
    }
   ],
   "source": [
    "root(8, 3)"
   ]
  },
  {
   "cell_type": "markdown",
   "id": "8a882fef",
   "metadata": {},
   "source": [
    "##### 2) Перепишите ваш код для проверки расширения из прошлого ДЗ в функцию, которая принимает список расширений и имя файла"
   ]
  },
  {
   "cell_type": "code",
   "execution_count": 60,
   "id": "14e3fac5",
   "metadata": {},
   "outputs": [],
   "source": [
    "def verify(file, extensions = []):\n",
    "    ext = file[file.find('.') + 1 :]\n",
    "    if ext in extensions:\n",
    "        print(f'Расширение {ext} корректно')\n",
    "    else:\n",
    "        print(f'Выберите другое расширение!')"
   ]
  },
  {
   "cell_type": "code",
   "execution_count": 64,
   "id": "6bcb2e27",
   "metadata": {},
   "outputs": [
    {
     "name": "stdout",
     "output_type": "stream",
     "text": [
      "Расширение ipynb корректно\n"
     ]
    }
   ],
   "source": [
    "file = 'ДЗ_питон.ipynb'\n",
    "extensions = ['png', 'jpg', 'jpeg', 'gif', 'svg', 'ipynb']\n",
    "\n",
    "verify(file, extensions)"
   ]
  },
  {
   "cell_type": "markdown",
   "id": "f0d99864",
   "metadata": {},
   "source": [
    "##### 3) Слейте воедино три словаря"
   ]
  },
  {
   "cell_type": "code",
   "execution_count": 127,
   "id": "5c7eb799",
   "metadata": {},
   "outputs": [],
   "source": [
    "dict_a = {1:10, 2:20}\n",
    "dict_b = {3:30, 4:40}\n",
    "dict_c = {5:50, 6:60}"
   ]
  },
  {
   "cell_type": "code",
   "execution_count": 128,
   "id": "25b2cbd4",
   "metadata": {},
   "outputs": [],
   "source": [
    "# способ 1\n",
    "def merge_dict(*args):\n",
    "    merged_dict = args[0]\n",
    "    for arg in args:\n",
    "        merged_dict.update(arg)\n",
    "    return merged_dict"
   ]
  },
  {
   "cell_type": "code",
   "execution_count": 129,
   "id": "95c8cc06",
   "metadata": {},
   "outputs": [
    {
     "data": {
      "text/plain": [
       "{1: 10, 2: 20, 3: 30, 4: 40, 5: 50, 6: 60}"
      ]
     },
     "execution_count": 129,
     "metadata": {},
     "output_type": "execute_result"
    }
   ],
   "source": [
    "merge_dict(dict_a, dict_b, dict_c)"
   ]
  },
  {
   "cell_type": "code",
   "execution_count": 130,
   "id": "a82ab40c",
   "metadata": {},
   "outputs": [
    {
     "data": {
      "text/plain": [
       "{1: 10, 2: 20, 3: 30, 4: 40, 5: 50, 6: 60}"
      ]
     },
     "execution_count": 130,
     "metadata": {},
     "output_type": "execute_result"
    }
   ],
   "source": [
    "# способ 2\n",
    "merged_dict = {**dict_a, **dict_b, **dict_c}\n",
    "merged_dict"
   ]
  },
  {
   "cell_type": "markdown",
   "id": "6354dce4",
   "metadata": {},
   "source": [
    "##### 4) Напишите функцию которая будет складывать цифры внутри числа"
   ]
  },
  {
   "cell_type": "code",
   "execution_count": 12,
   "id": "30c097eb",
   "metadata": {},
   "outputs": [],
   "source": [
    "def sum_n(n):\n",
    "    res = 0\n",
    "    while n > 0:\n",
    "        res = res + n % 10\n",
    "        n = n // 10\n",
    "    return res"
   ]
  },
  {
   "cell_type": "code",
   "execution_count": 17,
   "id": "f4bc06f5",
   "metadata": {},
   "outputs": [
    {
     "data": {
      "text/plain": [
       "15"
      ]
     },
     "execution_count": 17,
     "metadata": {},
     "output_type": "execute_result"
    }
   ],
   "source": [
    "sum_n(12345)"
   ]
  },
  {
   "cell_type": "markdown",
   "id": "b74d62dd",
   "metadata": {},
   "source": [
    "##### 5) Нужно проверить, все ли числа в последовательности уникальны"
   ]
  },
  {
   "cell_type": "code",
   "execution_count": 33,
   "id": "e9773c7e",
   "metadata": {},
   "outputs": [],
   "source": [
    "numbers=[1,4,5,5]"
   ]
  },
  {
   "cell_type": "code",
   "execution_count": 34,
   "id": "bd421310",
   "metadata": {},
   "outputs": [
    {
     "name": "stdout",
     "output_type": "stream",
     "text": [
      "В [1, 4, 5, 5] есть повторяющиеся значения\n"
     ]
    }
   ],
   "source": [
    "unique = set(numbers)\n",
    "\n",
    "if len(unique) == len(numbers):\n",
    "    print(f'Все числа в {numbers} уникальны')\n",
    "else:\n",
    "    print(f'В {numbers} есть повторяющиеся значения')"
   ]
  },
  {
   "cell_type": "markdown",
   "id": "4983da37",
   "metadata": {},
   "source": [
    "##### 6) Создать функцию, которая просто печатает все элементы заданного ей списка:\n",
    "\n",
    "        КЛЮЧ <<J>> --> ЗНАЧЕНИЕ\n",
    "        КЛЮЧ <<K>> --> ЗНАЧЕНИЕ\n",
    "    J, K — ключи словарика"
   ]
  },
  {
   "cell_type": "code",
   "execution_count": 56,
   "id": "1fe24fbc",
   "metadata": {},
   "outputs": [
    {
     "name": "stdout",
     "output_type": "stream",
     "text": [
      "<<0>> --> Я\n",
      "<<1>> --> в\n",
      "<<2>> --> своем\n",
      "<<3>> --> познании\n",
      "<<4>> --> настолько\n",
      "<<5>> --> преисполнился\n"
     ]
    }
   ],
   "source": [
    "def print_list(my_list):\n",
    "    for i in range(len(my_list)):\n",
    "        print(f'<<{i}>> --> {my_list[i]}')\n",
    "    pass\n",
    "\n",
    "print_list(['Я', 'в', 'своем', 'познании', 'настолько', 'преисполнился'])"
   ]
  },
  {
   "cell_type": "markdown",
   "id": "bfd451f1",
   "metadata": {},
   "source": [
    "##### Создать функцию, которая печатает каждый элемент словарика\n",
    "\n",
    "     КЛЮЧ <<J>> --> ЗНАЧЕНИЕ\n",
    "     КЛЮЧ <<K>> --> ЗНАЧЕНИЕ\n",
    "    J, K — ключи словарика"
   ]
  },
  {
   "cell_type": "code",
   "execution_count": 55,
   "id": "7c99b7b0",
   "metadata": {},
   "outputs": [
    {
     "name": "stdout",
     "output_type": "stream",
     "text": [
      "<<мне этот мир>> --> абсолютно понятен\n",
      "<<и я здесь ищу>> --> только одного\n",
      "<<покоя>> --> умиротворения\n",
      "<<и вот этой>> --> гармонии\n"
     ]
    }
   ],
   "source": [
    "def print_dict(my_dict):\n",
    "    for key, value in my_dict.items():\n",
    "         print(f'<<{key}>> --> {value}')\n",
    "    pass\n",
    "\n",
    "print_dict({'мне этот мир': 'абсолютно понятен', 'и я здесь ищу' : 'только одного', 'покоя' : 'умиротворения', \n",
    "            'и вот этой':'гармонии'})"
   ]
  },
  {
   "cell_type": "markdown",
   "id": "0986c8db",
   "metadata": {},
   "source": [
    "##### Сделать функцию, которая использует две уже написанные функции следующим образом:\n",
    "  \n",
    "    если ЗНАЧЕНИЕ это LIST --> вызывается print_list\n",
    "    если ЗНАЧЕНИЕ это DICT --> вызывается print_dict\n",
    "    \n",
    "    во всех других случаях просто выводится ЗНАЧЕНИЕ"
   ]
  },
  {
   "cell_type": "code",
   "execution_count": 64,
   "id": "f2113325",
   "metadata": {},
   "outputs": [
    {
     "name": "stdout",
     "output_type": "stream",
     "text": [
      "1\n",
      "<<0>> --> 1\n",
      "<<1>> --> 2\n",
      "<<2>> --> 3\n",
      "<<3>> --> 4\n",
      "Hello\n",
      "<<ciao>> --> Mondo\n",
      "<<Привет>> --> О дивный мир\n"
     ]
    }
   ],
   "source": [
    "def print_overlord(mydict):\n",
    "    for i in mydict.values():\n",
    "        if isinstance(i, list):\n",
    "            print_list(i)\n",
    "        elif isinstance(i, dict):\n",
    "            print_dict(i)\n",
    "        else:\n",
    "            print(i)\n",
    "    pass\n",
    "\n",
    "print_overlord(dict(key1=1,\n",
    "            key2=[1, 2, 3, 4], \n",
    "            key3='Hello', \n",
    "            key4={\"ciao\":\"Mondo\", \"Привет\": \"О дивный мир\"}))"
   ]
  },
  {
   "cell_type": "markdown",
   "id": "05952b9c",
   "metadata": {},
   "source": [
    "### Задачи со звёздочкой"
   ]
  },
  {
   "cell_type": "markdown",
   "id": "e1e9ba93",
   "metadata": {},
   "source": [
    "##### 1) Сделать функцию, которая на вход получает фразу и печатает все отдельные слова из этой фразы"
   ]
  },
  {
   "cell_type": "markdown",
   "id": "67558d26",
   "metadata": {},
   "source": [
    "OUTPUT:  \n",
    "Word1  \n",
    "Word2  \n",
    ".  \n",
    ".  \n",
    ".\n",
    "\n",
    "WordN  \n",
    "Number or Words: X  "
   ]
  },
  {
   "cell_type": "code",
   "execution_count": 62,
   "id": "25c62b0b",
   "metadata": {},
   "outputs": [],
   "source": [
    "def word_count(phrase = None):\n",
    "    spisok = []\n",
    "    if phrase is None:\n",
    "        phrase = input('Напишите фразу:')\n",
    "    else: \n",
    "        print('Фраза: ', phrase)\n",
    "    for word in phrase.split():\n",
    "        spisok.append(word)\n",
    "        print(word)\n",
    "    print(f'В данной фразе {len(spisok)} слов(а)')\n",
    "    pass"
   ]
  },
  {
   "cell_type": "code",
   "execution_count": 63,
   "id": "c5e65170",
   "metadata": {},
   "outputs": [
    {
     "name": "stdout",
     "output_type": "stream",
     "text": [
      "Фраза:  Тут фраза с пробелами и я хочу их распечатать по одному на строку и ещё посчитать слова\n",
      "Тут\n",
      "фраза\n",
      "с\n",
      "пробелами\n",
      "и\n",
      "я\n",
      "хочу\n",
      "их\n",
      "распечатать\n",
      "по\n",
      "одному\n",
      "на\n",
      "строку\n",
      "и\n",
      "ещё\n",
      "посчитать\n",
      "слова\n",
      "В данной фразе 17 слов(а)\n"
     ]
    }
   ],
   "source": [
    "word_count('Тут фраза с пробелами и я хочу их распечатать по одному на строку и ещё посчитать слова')"
   ]
  },
  {
   "cell_type": "markdown",
   "id": "463df0be",
   "metadata": {},
   "source": [
    "##### 2) Модифицировать функцию из предыдущего задания так, чтобы она считала \"вес\" каждого слова, выводя в процентное соотношение во фразе для каждого слова. Проценты печатать с точностью до 2 знаков после запятой"
   ]
  },
  {
   "cell_type": "code",
   "execution_count": 64,
   "id": "ca3e4dfe",
   "metadata": {},
   "outputs": [],
   "source": [
    "def word_count_w(phrase = None):\n",
    "    spisok = []\n",
    "    if phrase is None:\n",
    "        phrase = input('Напишите фразу:')\n",
    "    else: \n",
    "        print('Фраза: ', phrase)\n",
    "    wo_space = len(phrase) - phrase.count(' ')\n",
    "    for word in phrase.split():\n",
    "        spisok.append(word)\n",
    "        weight = (len(word)/wo_space)*100\n",
    "        print(f'{word} --- {round(weight, 2)}% ')\n",
    "    print(f'В данной фразе {len(spisok)} слов(а) - 100%')\n",
    "    pass"
   ]
  },
  {
   "cell_type": "code",
   "execution_count": 65,
   "id": "f543cff3",
   "metadata": {},
   "outputs": [
    {
     "name": "stdout",
     "output_type": "stream",
     "text": [
      "Напишите фразу:Тоже самое только еще вес посчитаем\n",
      "Тоже --- 13.33% \n",
      "самое --- 16.67% \n",
      "только --- 20.0% \n",
      "еще --- 10.0% \n",
      "вес --- 10.0% \n",
      "посчитаем --- 30.0% \n",
      "В данной фразе 6 слов(а) - 100%\n"
     ]
    }
   ],
   "source": [
    "word_count_w()"
   ]
  }
 ],
 "metadata": {
  "kernelspec": {
   "display_name": "Python 3 (ipykernel)",
   "language": "python",
   "name": "python3"
  },
  "language_info": {
   "codemirror_mode": {
    "name": "ipython",
    "version": 3
   },
   "file_extension": ".py",
   "mimetype": "text/x-python",
   "name": "python",
   "nbconvert_exporter": "python",
   "pygments_lexer": "ipython3",
   "version": "3.9.7"
  }
 },
 "nbformat": 4,
 "nbformat_minor": 5
}
