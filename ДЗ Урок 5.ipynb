{
 "cells": [
  {
   "cell_type": "markdown",
   "id": "79a56e79",
   "metadata": {},
   "source": [
    "## ДЗ из урока №5"
   ]
  },
  {
   "cell_type": "code",
   "execution_count": 17,
   "id": "2a87b5b6",
   "metadata": {},
   "outputs": [],
   "source": [
    "import numpy as np"
   ]
  },
  {
   "cell_type": "markdown",
   "id": "85f779f6",
   "metadata": {},
   "source": [
    "##### 1) Средний бал и список отстающих учеников  \n",
    "Иванов О. **4**  \n",
    "Петров И. **3**  \n",
    "Дмитриев Н. **2**  \n",
    "Смирнова О. **4**  \n",
    "Керченских В. **5**  \n",
    "Котов Д. **2**  \n",
    "Бирюкова Н. **1**  \n",
    "Данилов П. **3**  \n",
    "Аранских В. **5**  \n",
    "Лемонов Ю. **2**  \n",
    "Олегова К. **4**  "
   ]
  },
  {
   "cell_type": "code",
   "execution_count": 104,
   "id": "929292de",
   "metadata": {},
   "outputs": [
    {
     "name": "stdout",
     "output_type": "stream",
     "text": [
      "Иванов О.:4\n",
      "Петров И.:3\n",
      "Дмитриев Н.:2\n",
      "Смирнова О.:4\n",
      "Керченских В.:5\n",
      "Котов Д.:2\n",
      "Бирюкова Н.:1\n",
      "Данилов П.:3\n",
      "Аранских В.:5\n",
      "Лемонов Ю.:2\n",
      "Олегова К.:4\n",
      "\n",
      "Средний балл по группе: 3.18\n",
      "\n",
      "Отстающие ученики: \n",
      "Петров И. - 3\n",
      "Дмитриев Н. - 2\n",
      "Котов Д. - 2\n",
      "Бирюкова Н. - 1\n",
      "Данилов П. - 3\n",
      "Лемонов Ю. - 2\n",
      "\n"
     ]
    }
   ],
   "source": [
    "students = {'Иванов О.':4, 'Петров И.':3, 'Дмитриев Н.':2, 'Смирнова О.': 4, 'Керченских В.':5, 'Котов Д.':2,\n",
    "            'Бирюкова Н.': 1, 'Данилов П.':3, 'Аранских В.':5, 'Лемонов Ю.':2, 'Олегова К.':4}\n",
    "\n",
    "with open('students_marks.txt', 'w', encoding = 'utf-8') as spisok:\n",
    "    for key, value in students.items():\n",
    "        spisok.write('{}:{}\\n'.format(key, value))\n",
    "    spisok.write('\\n')\n",
    "    \n",
    "marks = []\n",
    "for i in students.values():\n",
    "    marks.append(i)\n",
    "    marks_avg = round(np.average(marks), 2)        \n",
    "\n",
    "with open('students_marks.txt', 'a', encoding = 'utf-8') as spisok:\n",
    "    spisok.write('Средний балл по группе: {}\\n\\n'.format(marks_avg))\n",
    "    \n",
    "\n",
    "with open('students_marks.txt', 'a', encoding = 'utf-8') as spisok:\n",
    "    spisok.write('Отстающие ученики: \\n')\n",
    "    for key, value in students.items():\n",
    "        if value < marks_avg:\n",
    "            spisok.write('{} - {}\\n'.format(key, value))\n",
    "        else:\n",
    "            pass\n",
    "        \n",
    "        \n",
    "spisok = open('students_marks.txt', 'r', encoding=\"utf-8\")\n",
    "print(spisok.read())    "
   ]
  },
  {
   "cell_type": "markdown",
   "id": "a14b9978",
   "metadata": {},
   "source": [
    "##### 2) Посчитать количество определенных слов в файле\n",
    "###### *Понедельник*  \n",
    "    Физика (лекц.)  \n",
    "\tФизика (лаб.)  \n",
    "\tАлгебра (практ.)  \n",
    "  \n",
    "###### *Вторник*  \n",
    "\tГеометрия (лекц.)  \n",
    "\tФизика (практ.)  \n",
    "\tФизика (лаба.)  \n",
    "\tФизкультура (практик.)  \n",
    "    ..."
   ]
  },
  {
   "cell_type": "code",
   "execution_count": 30,
   "id": "40b0eb69",
   "metadata": {},
   "outputs": [
    {
     "name": "stdout",
     "output_type": "stream",
     "text": [
      "Лекций: 5\n",
      "Практических: 6\n",
      "Лабораторных: 4\n"
     ]
    }
   ],
   "source": [
    "with open('Calend.txt', 'r', encoding = 'utf-8') as file:\n",
    "    lec = 0\n",
    "    pract = 0\n",
    "    lab = 0\n",
    "    for line in file:\n",
    "        if line.find('лекц.') != -1:\n",
    "            lec += 1\n",
    "        elif line.find('практ.') != -1:\n",
    "            pract += 1\n",
    "        elif line.find('лаб.') != -1:\n",
    "            lab += 1\n",
    "        else:\n",
    "            pass\n",
    "    print('Лекций:', lec)\n",
    "    print('Практических:', pract)\n",
    "    print('Лабораторных:', lab)"
   ]
  },
  {
   "cell_type": "markdown",
   "id": "5aa7dcf7",
   "metadata": {},
   "source": [
    "##### 4) Выведите список файлов в указанной директории. Например, где у вас лежат ваши тетради"
   ]
  },
  {
   "cell_type": "code",
   "execution_count": 2,
   "id": "ad4f7e11",
   "metadata": {},
   "outputs": [
    {
     "name": "stdout",
     "output_type": "stream",
     "text": [
      "Calend.txt\n",
      "README.md\n",
      "students_marks.txt\n",
      "ДЗ Урок 2.ipynb\n",
      "ДЗ Урок 3.ipynb\n",
      "ДЗ Урок 4.ipynb\n",
      "ДЗ Урок 5.ipynb\n",
      "COMMIT_EDITMSG\n",
      "config\n",
      "description\n",
      "FETCH_HEAD\n",
      "HEAD\n",
      "index\n",
      "ORIG_HEAD\n",
      "packed-refs\n",
      "applypatch-msg.sample\n",
      "commit-msg.sample\n",
      "fsmonitor-watchman.sample\n",
      "post-update.sample\n",
      "pre-applypatch.sample\n",
      "pre-commit.sample\n",
      "pre-merge-commit.sample\n",
      "pre-push.sample\n",
      "pre-rebase.sample\n",
      "pre-receive.sample\n",
      "prepare-commit-msg.sample\n",
      "push-to-checkout.sample\n",
      "update.sample\n",
      "exclude\n",
      "HEAD\n",
      "main\n",
      "HEAD\n",
      "main\n",
      "c805dee95c31a1f04aebb6e58cec244404faa9\n",
      "04ce01922ad793e5ae1de602a0bd0c14ae330b\n",
      "2ebd1c113dfc1b9afb52aee4ddcb3823dc3774\n",
      "eb0fa0e69022eba69875fd69f621dff21a3420\n",
      "4a60f95e0a29ed276f5f31b50c389cc770c0fa\n",
      "60e90e685e9c74598cf01b534086fe23a5e752\n",
      "5f68550255ef41095b3433d848e4481d3f0f49\n",
      "e17304e18254ad82afc85699951c8ccd78f608\n",
      "9c56dad59fa67c5227e0f62839b3c6ee3d75d6\n",
      "c57d6be4def91cdc2bd1cc3d0968ab62f7dc19\n",
      "27808265085697930681dcc89b2fd2e5ebd487\n",
      "a006b232e406163b51e350733c67aa80443f9f\n",
      "598abba4d195344667546041cd451e9d4b71a5\n",
      "9de29bb2d1d6434b8b29ae775ad8c2e48c5391\n",
      "e675824e984c8829550fadd3abee7a4f60a437\n",
      "5878ce6b61167b00cba711751193e839c70d8a\n",
      "pack-bc3f5d180954e12c85a1b22113870d6f2c6a82d4.idx\n",
      "pack-bc3f5d180954e12c85a1b22113870d6f2c6a82d4.pack\n",
      "main\n",
      "HEAD\n",
      "main\n",
      "ДЗ Урок 3-checkpoint.ipynb\n",
      "ДЗ Урок 4-checkpoint.ipynb\n",
      "ДЗ Урок 5-checkpoint.ipynb\n"
     ]
    }
   ],
   "source": [
    "import os\n",
    "for root, dirs, files in os.walk(\".\"):  \n",
    "    for filename in files:\n",
    "        print(filename)\n",
    "        \n",
    "# также вывелся гит, не знаю как его убрать..."
   ]
  },
  {
   "cell_type": "markdown",
   "id": "0d46c617",
   "metadata": {},
   "source": [
    "##### 5) Напишите программу, которая принимает текст и выводит два слова: наиболее часто встречающееся и самое длинное"
   ]
  },
  {
   "cell_type": "markdown",
   "id": "f0f3cf59",
   "metadata": {},
   "source": [
    "Варкалось. Хливкие шорьки Пырялись по наве, И хрюкотали зелюки, Как мюмзики в мове.\n",
    "\n",
    "О, бойся Бармаглота, сын! Он так свирлеп и дик! А в глу́ше ры́мит исполин — Злопастный Брандашмыг!\n",
    "\n",
    "Но взял он меч, и взял он щит, Высоких полон дум. В глущобу путь его лежит Под дерево Тумтум.\n",
    "\n",
    "Он стал под дерево и ждёт. И вдруг граахнул гром — Летит ужасный Бармаглот И пылкает огнём!\n",
    "\n",
    "Раз-два, раз-два! Горит трава, Взы-взы — стрижает меч, Ува! Ува! И голова Барабардает с плеч!\n",
    "\n",
    "О светозарный мальчик мой! Ты победил в бою! О храброславленный герой, Хвалу тебе пою!\n",
    "\n",
    "Варкалось. Хливкие шорьки Пырялись по наве. И хрюкотали зелюки, Как мюмзики в мове."
   ]
  },
  {
   "cell_type": "code",
   "execution_count": 56,
   "id": "bea8ae9b",
   "metadata": {},
   "outputs": [
    {
     "name": "stdout",
     "output_type": "stream",
     "text": [
      "Варкалось. Хливкие шорьки Пырялись по наве, И хрюкотали зелюки, Как мюмзики в мове.  О, бойся Бармаглота, сын! Он так свирлеп и дик! А в глу́ше ры́мит исполин — Злопастный Брандашмыг!  Но взял он меч, и взял он щит, Высоких полон дум. В глущобу путь его лежит Под дерево Тумтум.  Он стал под дерево и ждёт. И вдруг граахнул гром — Летит ужасный Бармаглот И пылкает огнём!  Раз-два, раз-два! Горит трава, Взы-взы — стрижает меч, Ува! Ува! И голова Барабардает с плеч!  О светозарный мальчик мой! Ты победил в бою! О храброславленный герой, Хвалу тебе пою!  Варкалось. Хливкие шорьки Пырялись по наве. И хрюкотали зелюки, Как мюмзики в мове.\n",
      "______________________________________________________\n",
      "Самое часто встречающееся слово \"и\", оно встречается 8 раз(а)\n",
      "Самое длинное слово \"храброславленный\", его длина 16 букв\n"
     ]
    }
   ],
   "source": [
    "def common_word(phrase):\n",
    "    spisok=[]\n",
    "    max_count = phrase[0]\n",
    "    for word in phrase.split():\n",
    "        spisok.append(word.lower())\n",
    "        for i in spisok:\n",
    "            if spisok.count(i) > spisok.count(max_count):\n",
    "                max_count = i\n",
    "    if spisok.count(max_count) == 1:\n",
    "        print('Каждое слово встречается всего один раз')\n",
    "    else:\n",
    "        print(f'Самое часто встречающееся слово \"{max_count}\", оно встречается {spisok.count(max_count)} раз(а)')   \n",
    "            \n",
    "def length_word(phrase):\n",
    "    max_word = phrase[0]\n",
    "    for word in phrase.split():\n",
    "        if len(word) > len(max_word):\n",
    "            max_word = word\n",
    "    print(f'Самое длинное слово \"{max_word}\", его длина {len(max_word)} букв')    \n",
    "     \n",
    "\n",
    "with open('Text.txt', 'w', encoding = 'utf-8') as t:\n",
    "    text = input()\n",
    "    t.write(text)\n",
    "    print('______________________________________________________')\n",
    "    common_word(text)\n",
    "    length_word(text)\n"
   ]
  }
 ],
 "metadata": {
  "kernelspec": {
   "display_name": "Python 3 (ipykernel)",
   "language": "python",
   "name": "python3"
  },
  "language_info": {
   "codemirror_mode": {
    "name": "ipython",
    "version": 3
   },
   "file_extension": ".py",
   "mimetype": "text/x-python",
   "name": "python",
   "nbconvert_exporter": "python",
   "pygments_lexer": "ipython3",
   "version": "3.9.7"
  }
 },
 "nbformat": 4,
 "nbformat_minor": 5
}
