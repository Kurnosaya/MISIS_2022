{
 "cells": [
  {
   "cell_type": "markdown",
   "id": "bb685c31",
   "metadata": {},
   "source": [
    "## Практика из урока №1"
   ]
  },
  {
   "cell_type": "code",
   "execution_count": null,
   "id": "0c97d4a9",
   "metadata": {},
   "outputs": [],
   "source": [
    "# 1) Найдите остаток от деления 77 на 2\n",
    "77 % 2"
   ]
  },
  {
   "cell_type": "code",
   "execution_count": 1,
   "id": "a15633a4",
   "metadata": {},
   "outputs": [
    {
     "data": {
      "text/plain": [
       "0"
      ]
     },
     "execution_count": 1,
     "metadata": {},
     "output_type": "execute_result"
    }
   ],
   "source": [
    "# 2) Узнайте четное ли число 22\n",
    "22 % 2"
   ]
  },
  {
   "cell_type": "code",
   "execution_count": 2,
   "id": "602f58e4",
   "metadata": {},
   "outputs": [
    {
     "data": {
      "text/plain": [
       "34792782221696"
      ]
     },
     "execution_count": 2,
     "metadata": {},
     "output_type": "execute_result"
    }
   ],
   "source": [
    "# 3) Посчитайте 86 в степени 7\n",
    "86 ** 7"
   ]
  },
  {
   "cell_type": "code",
   "execution_count": 3,
   "id": "09e428af",
   "metadata": {},
   "outputs": [
    {
     "data": {
      "text/plain": [
       "1920.0"
      ]
     },
     "execution_count": 3,
     "metadata": {},
     "output_type": "execute_result"
    }
   ],
   "source": [
    "# 4) Найдите квадратный корень из 3686400\n",
    "3686400 ** 0.5"
   ]
  },
  {
   "cell_type": "markdown",
   "id": "92d4adca",
   "metadata": {},
   "source": [
    "## ДЗ из урока №2"
   ]
  },
  {
   "cell_type": "markdown",
   "id": "e4bfed99",
   "metadata": {},
   "source": [
    "##### 1) Сделайте так, чтобы число секунд отображалось в виде дни:часы:минуты:секунды."
   ]
  },
  {
   "cell_type": "code",
   "execution_count": 98,
   "id": "a5c7702c",
   "metadata": {},
   "outputs": [
    {
     "name": "stdout",
     "output_type": "stream",
     "text": [
      "0:2:46:40\n"
     ]
    }
   ],
   "source": [
    "seconds=10000\n",
    "\n",
    "days = seconds // 86400\n",
    "hours = (seconds % 86400) // 3600\n",
    "minutes = (seconds % 86400 % 3600) // 60\n",
    "sec = (seconds % 86400 % 3600 % 60) % 60\n",
    "\n",
    "print(f'{days}:{hours}:{minutes}:{sec}')"
   ]
  },
  {
   "cell_type": "markdown",
   "id": "307417d6",
   "metadata": {},
   "source": [
    "##### 2) Напишите калькулятор который запрашивает на входе две переменные и знак, и в соответствии с знаком ( + - * / ) выводит результат"
   ]
  },
  {
   "cell_type": "code",
   "execution_count": 110,
   "id": "d0357f16",
   "metadata": {},
   "outputs": [
    {
     "name": "stdout",
     "output_type": "stream",
     "text": [
      "Введите переменную a: 5\n",
      "Введите переменную b: 3\n",
      "Введите знак операции (+), (-), (*) или (/): 8\n",
      "Неверно введен знак операции!\n"
     ]
    }
   ],
   "source": [
    "a = float(input('Введите переменную a: '))\n",
    "b = float(input('Введите переменную b: '))\n",
    "sign = input('Введите знак операции (+), (-), (*) или (/): ')\n",
    "\n",
    "if sign == '+':\n",
    "    res = a + b\n",
    "    print('Результат = ', res)\n",
    "elif sign == '-':\n",
    "    res = a - b\n",
    "    print('Результат = ', res)\n",
    "elif sign == '*':\n",
    "    res = a * b\n",
    "    print('Результат = ', res)\n",
    "elif sign == '/':\n",
    "    if b == 0:\n",
    "        print('Операция невозможна')\n",
    "    else:\n",
    "        res = a/b\n",
    "        print('Результат = ', res)\n",
    "else:\n",
    "    print('Неверно введен знак операции!')\n"
   ]
  },
  {
   "cell_type": "markdown",
   "id": "3847d913",
   "metadata": {},
   "source": [
    "##### 3) Считайте 2 строки и выведите их на печать, разделив символом $."
   ]
  },
  {
   "cell_type": "markdown",
   "id": "57926d4b",
   "metadata": {},
   "source": [
    "Попробуйте решить эту задачу как минимум 2 способами:\n",
    "\n",
    "1) с помощью конкатенации строк  \n",
    "2) с помощью указания разделителя в параметре sep метода print"
   ]
  },
  {
   "cell_type": "code",
   "execution_count": 120,
   "id": "e9a51c4e",
   "metadata": {},
   "outputs": [
    {
     "name": "stdout",
     "output_type": "stream",
     "text": [
      "Введите первую строку: Привет\n",
      "Введите вторую строку: питон!\n",
      "С помощью конкатенации строк: Привет $ питон!\n",
      "С помощью указания разделителя:\n",
      "Привет$питон!\n"
     ]
    }
   ],
   "source": [
    "stroka_1 = str(input('Введите первую строку: '))\n",
    "stroka_2 = str(input('Введите вторую строку: '))\n",
    "\n",
    "print('С помощью конкатенации строк:', stroka_1 + ' $ ' + stroka_2)\n",
    "print('С помощью указания разделителя:')\n",
    "print(stroka_1, stroka_2, sep = '$')"
   ]
  },
  {
   "cell_type": "markdown",
   "id": "227f949c",
   "metadata": {},
   "source": [
    "##### 4) Напишите поздравление с Днем рождения, где программа считает имя и возраст и выведет поздравление столько раз, сколько лет именнинику"
   ]
  },
  {
   "cell_type": "code",
   "execution_count": 144,
   "id": "c914245a",
   "metadata": {},
   "outputs": [
    {
     "name": "stdout",
     "output_type": "stream",
     "text": [
      "Введите возраст именинника: 22\n",
      "С Днём Рождения!\n",
      "С Днём Рождения!\n",
      "С Днём Рождения!\n",
      "С Днём Рождения!\n",
      "С Днём Рождения!\n",
      "С Днём Рождения!\n",
      "С Днём Рождения!\n",
      "С Днём Рождения!\n",
      "С Днём Рождения!\n",
      "С Днём Рождения!\n",
      "С Днём Рождения!\n",
      "С Днём Рождения!\n",
      "С Днём Рождения!\n",
      "С Днём Рождения!\n",
      "С Днём Рождения!\n",
      "С Днём Рождения!\n",
      "С Днём Рождения!\n",
      "С Днём Рождения!\n",
      "С Днём Рождения!\n",
      "С Днём Рождения!\n",
      "С Днём Рождения!\n",
      "С Днём Рождения!\n",
      "\n"
     ]
    }
   ],
   "source": [
    "age = int(input('Введите возраст именинника: '))\n",
    "\n",
    "if age > 0:\n",
    "    print(f'С Днём Рождения!\\n' * age)\n",
    "else:\n",
    "    print('Введите корректный возраст')"
   ]
  }
 ],
 "metadata": {
  "kernelspec": {
   "display_name": "Python 3 (ipykernel)",
   "language": "python",
   "name": "python3"
  },
  "language_info": {
   "codemirror_mode": {
    "name": "ipython",
    "version": 3
   },
   "file_extension": ".py",
   "mimetype": "text/x-python",
   "name": "python",
   "nbconvert_exporter": "python",
   "pygments_lexer": "ipython3",
   "version": "3.9.7"
  }
 },
 "nbformat": 4,
 "nbformat_minor": 5
}
