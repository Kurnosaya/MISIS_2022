{
 "cells": [
  {
   "cell_type": "markdown",
   "id": "9962d9fc",
   "metadata": {},
   "source": [
    "## ДЗ из урока №3"
   ]
  },
  {
   "cell_type": "markdown",
   "id": "e60b2641",
   "metadata": {},
   "source": [
    "##### 1) Какой месяц?"
   ]
  },
  {
   "cell_type": "code",
   "execution_count": 21,
   "id": "9036bffe",
   "metadata": {},
   "outputs": [],
   "source": [
    "month = 1"
   ]
  },
  {
   "cell_type": "code",
   "execution_count": 31,
   "id": "174f4813",
   "metadata": {},
   "outputs": [],
   "source": [
    "calendar = ['Январь', 'Февраль', 'Март', 'Апрель', 'Май', 'Июнь', 'Июль', 'Август', 'Сентябрь', 'Октябрь', 'Ноябрь', 'Декабрь']"
   ]
  },
  {
   "cell_type": "code",
   "execution_count": 115,
   "id": "f3ad7121",
   "metadata": {},
   "outputs": [
    {
     "name": "stdout",
     "output_type": "stream",
     "text": [
      "Введите номер месяца: 4\n",
      "Это месяц: Апрель\n"
     ]
    }
   ],
   "source": [
    "month = int(input('Введите номер месяца: '))\n",
    "\n",
    "if (month > 0) & (month <= len(calendar)):\n",
    "    print('Это месяц:', calendar[month - 1])\n",
    "else: \n",
    "    print('Такого месяца нет(')"
   ]
  },
  {
   "cell_type": "markdown",
   "id": "9c04e43f",
   "metadata": {},
   "source": [
    "##### 2) Наибольший общий делитель"
   ]
  },
  {
   "cell_type": "code",
   "execution_count": 88,
   "id": "fbccc311",
   "metadata": {},
   "outputs": [],
   "source": [
    "a = 600\n",
    "b = 1012"
   ]
  },
  {
   "cell_type": "code",
   "execution_count": 119,
   "id": "caa8d290",
   "metadata": {},
   "outputs": [
    {
     "name": "stdout",
     "output_type": "stream",
     "text": [
      "Введите число a: 1012\n",
      "Введите число b: 600\n",
      "Наибольший общий делитель a и b: 4\n"
     ]
    }
   ],
   "source": [
    "a = int(input('Введите число a: '))\n",
    "b = int(input('Введите число b: '))\n",
    "\n",
    "if a > b:\n",
    "    s = a\n",
    "else: \n",
    "    s = b\n",
    "for i in range(1, s + 1):\n",
    "    if a % i == 0 and b % i == 0:\n",
    "        nod = i\n",
    "        \n",
    "print(f'Наибольший общий делитель a и b: {nod}')"
   ]
  },
  {
   "cell_type": "markdown",
   "id": "10fcdf60",
   "metadata": {},
   "source": [
    "##### 3) Проверка расширения файла"
   ]
  },
  {
   "cell_type": "code",
   "execution_count": 132,
   "id": "50102172",
   "metadata": {},
   "outputs": [],
   "source": [
    "file = 'Моя диссертация.gif'\n",
    "extensions = ['png', 'jpg', 'jpeg', 'gif', 'svg']"
   ]
  },
  {
   "cell_type": "code",
   "execution_count": 133,
   "id": "ac00c725",
   "metadata": {},
   "outputs": [
    {
     "name": "stdout",
     "output_type": "stream",
     "text": [
      "Данное расширение для файла \"Моя диссертация.gif\" допустимо\n"
     ]
    }
   ],
   "source": [
    "if file[-3:] in extensions:\n",
    "    print (f'Данное расширение для файла \"{file}\" допустимо')\n",
    "else:\n",
    "    print('Выберите другое расширение файла!')"
   ]
  },
  {
   "cell_type": "markdown",
   "id": "d83e7ded",
   "metadata": {},
   "source": [
    "##### 4) Високосный год"
   ]
  },
  {
   "cell_type": "markdown",
   "id": "fd612cd3",
   "metadata": {},
   "source": [
    "год, номер которого кратен 400, — високосный;  \n",
    "остальные годы, номер которых кратен 100, — невисокосные;  \n",
    "остальные годы, номер которых кратен 4, — високосные."
   ]
  },
  {
   "cell_type": "code",
   "execution_count": 126,
   "id": "ee6e8b6f",
   "metadata": {},
   "outputs": [],
   "source": [
    "year = 2022"
   ]
  },
  {
   "cell_type": "code",
   "execution_count": 131,
   "id": "885b35a4",
   "metadata": {},
   "outputs": [
    {
     "name": "stdout",
     "output_type": "stream",
     "text": [
      "Узнаем какой же год 2022\n",
      "2022 невисокосный\n"
     ]
    }
   ],
   "source": [
    "year = int(input('Узнаем какой же год '))\n",
    "\n",
    "if year % 4 == 0:\n",
    "    print (f'{year} високосный год')\n",
    "elif year % 400 == 0 and year % 100 == 0:\n",
    "    print (f'{year} високосный год')\n",
    "else:\n",
    "    print (f'{year} невисокосный')"
   ]
  }
 ],
 "metadata": {
  "kernelspec": {
   "display_name": "Python 3 (ipykernel)",
   "language": "python",
   "name": "python3"
  },
  "language_info": {
   "codemirror_mode": {
    "name": "ipython",
    "version": 3
   },
   "file_extension": ".py",
   "mimetype": "text/x-python",
   "name": "python",
   "nbconvert_exporter": "python",
   "pygments_lexer": "ipython3",
   "version": "3.9.7"
  }
 },
 "nbformat": 4,
 "nbformat_minor": 5
}
