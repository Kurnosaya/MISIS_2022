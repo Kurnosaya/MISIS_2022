{
 "cells": [
  {
   "cell_type": "markdown",
   "id": "efc08685",
   "metadata": {},
   "source": [
    "## ДЗ из урока №6"
   ]
  },
  {
   "cell_type": "markdown",
   "id": "709a48e7",
   "metadata": {},
   "source": [
    "##### 1) Напишите программу с классом Student, в котором есть три атрибута: name, groupNumber и age.  \n",
    "По умолчанию name = Ivan, age = 18, groupNumber = 10A. Необходимо создать пять методов: getName, getAge, getGroupNumber, setNameAge, setGroupNumber.  \n",
    "Метод getName нужен для получения данных об имени конкретного студента, метод getAge нужен для получения данных о возрасте конкретного студента, метод setGroupNumberнужен для получения данных о номере группы конкретного студента. Метод SetNameAge позволяет изменить данные атрибутов установленных по умолчанию, метод setGroupNumber позволяет изменить номер группы установленный по умолчанию.  \n",
    "В программе необходимо создать пять экземпляров класса Student, установить им разные имена, возраст и номер группы."
   ]
  },
  {
   "cell_type": "code",
   "execution_count": 101,
   "id": "640aa539",
   "metadata": {},
   "outputs": [],
   "source": [
    "class Student:\n",
    "    def __init__(self, name = 'Ivan', groupNumber = '10A', age = 18):\n",
    "        self.name = name\n",
    "        self.groupNumber = groupNumber\n",
    "        self.age = age\n",
    "    \n",
    "    def __str__(self):\n",
    "        return 'Имя студента: {} \\n Возраст студента: {}\\n Группа студента: {} \\n_____________'.format(self.name, \n",
    "                                                                                                       self.age, \n",
    "                                                                                                       self.groupNumber)\n",
    "    \n",
    "    def getName(self, name = 'Ivan'):\n",
    "        return 'Имя студента: {}'.format(self.name)\n",
    "        \n",
    "    def getAge(self):\n",
    "        return 'Возраст студента: {}'.format(self.age)\n",
    "    \n",
    "    def getGroupNumber(self):\n",
    "        return 'Группа студента: {}'.format(self.groupNumber)\n",
    "        \n",
    "    def setNameAge(self, new_name, new_age):\n",
    "        self.name = new_name\n",
    "        self.age = new_age\n",
    "        return 'Имя и возраст студента изменены на: {} и {}'.format(self.name, self.age)\n",
    "    \n",
    "    def setGroupNumber(self, new_number):\n",
    "        self.groupNumber = new_number\n",
    "        return 'Группа студента изменена на {}'.format(self.groupNumber)"
   ]
  },
  {
   "cell_type": "code",
   "execution_count": 102,
   "id": "a364de9b",
   "metadata": {},
   "outputs": [],
   "source": [
    "Alina = Student('Алина', 'МИСТ-22', 22)\n",
    "Aleks = Student()\n",
    "Matvey = Student()\n",
    "Svetlana = Student()\n",
    "Mark = Student('Марк', 'КС-12', 24)"
   ]
  },
  {
   "cell_type": "code",
   "execution_count": 103,
   "id": "f1ae2dc6",
   "metadata": {},
   "outputs": [
    {
     "name": "stdout",
     "output_type": "stream",
     "text": [
      "Имя студента: Алина \n",
      " Возраст студента: 22\n",
      " Группа студента: МИСТ-22 \n",
      "_____________\n",
      "Имя студента: Ivan \n",
      " Возраст студента: 18\n",
      " Группа студента: 10A \n",
      "_____________\n",
      "Имя студента: Ivan \n",
      " Возраст студента: 18\n",
      " Группа студента: 10A \n",
      "_____________\n",
      "Имя студента: Ivan \n",
      " Возраст студента: 18\n",
      " Группа студента: 10A \n",
      "_____________\n",
      "Имя студента: Марк \n",
      " Возраст студента: 24\n",
      " Группа студента: КС-12 \n",
      "_____________\n"
     ]
    }
   ],
   "source": [
    "print(Alina)\n",
    "print(Aleks)\n",
    "print(Matvey)\n",
    "print(Svetlana)\n",
    "print(Mark)"
   ]
  },
  {
   "cell_type": "code",
   "execution_count": 104,
   "id": "50c9d231",
   "metadata": {},
   "outputs": [
    {
     "name": "stdout",
     "output_type": "stream",
     "text": [
      "Имя и возраст студента изменены на: Александр и 34\n",
      "Группа студента изменена на ТМ-47\n"
     ]
    }
   ],
   "source": [
    "print(Aleks.setNameAge('Александр', 34))\n",
    "print(Aleks.setGroupNumber('ТМ-47'))"
   ]
  },
  {
   "cell_type": "code",
   "execution_count": 105,
   "id": "3185600b",
   "metadata": {},
   "outputs": [
    {
     "name": "stdout",
     "output_type": "stream",
     "text": [
      "Имя и возраст студента изменены на: Матвей и 26\n",
      "Группа студента изменена на МИСТ-34\n"
     ]
    }
   ],
   "source": [
    "print(Matvey.setNameAge('Матвей', 26))\n",
    "print(Matvey.setGroupNumber('МИСТ-34'))"
   ]
  },
  {
   "cell_type": "code",
   "execution_count": 106,
   "id": "2677802d",
   "metadata": {},
   "outputs": [
    {
     "name": "stdout",
     "output_type": "stream",
     "text": [
      "Имя и возраст студента изменены на: Светлана и 18\n",
      "Группа студента изменена на КМ-1\n"
     ]
    }
   ],
   "source": [
    "print(Svetlana.setNameAge('Светлана', 18))\n",
    "print(Svetlana.setGroupNumber('КМ-1'))"
   ]
  },
  {
   "cell_type": "code",
   "execution_count": 107,
   "id": "dcf2e88b",
   "metadata": {},
   "outputs": [
    {
     "name": "stdout",
     "output_type": "stream",
     "text": [
      "Имя студента: Алина \n",
      " Возраст студента: 22\n",
      " Группа студента: МИСТ-22 \n",
      "_____________\n",
      "Имя студента: Александр \n",
      " Возраст студента: 34\n",
      " Группа студента: ТМ-47 \n",
      "_____________\n",
      "Имя студента: Матвей \n",
      " Возраст студента: 26\n",
      " Группа студента: МИСТ-34 \n",
      "_____________\n",
      "Имя студента: Светлана \n",
      " Возраст студента: 18\n",
      " Группа студента: КМ-1 \n",
      "_____________\n",
      "Имя студента: Марк \n",
      " Возраст студента: 24\n",
      " Группа студента: КС-12 \n",
      "_____________\n"
     ]
    }
   ],
   "source": [
    "print(Alina)\n",
    "print(Aleks)\n",
    "print(Matvey)\n",
    "print(Svetlana)\n",
    "print(Mark)"
   ]
  },
  {
   "cell_type": "markdown",
   "id": "4c048d3b",
   "metadata": {},
   "source": [
    "##### 2) Напишите программу с классом Car.   \n",
    "Создайте конструктор класса Car. Создайте атрибуты класса Car — color (цвет), type (тип), year (год). Напишите пять методов. Первый — запуск автомобиля, при его вызове выводится сообщение «Автомобиль заведен». Второй — отключение автомобиля — выводит сообщение «Автомобиль заглушен». Третий — присвоение автомобилю года выпуска. Четвертый метод — присвоение автомобилю типа. Пятый — присвоение автомобилю цвета."
   ]
  },
  {
   "cell_type": "code",
   "execution_count": 12,
   "id": "30ffef84",
   "metadata": {},
   "outputs": [],
   "source": [
    "class Car:\n",
    "    def __init__(self, color = 'черный', type = 'седан', year = '2000'):\n",
    "        self.color = color\n",
    "        self.type = type\n",
    "        self.year = year\n",
    "        \n",
    "    def __str__(self):\n",
    "        return f'{self.color} автомобиль {self.type} {self.year} года стоит у входа'\n",
    "        \n",
    "    def start(self):\n",
    "        print(f'Автомобиль заведен')\n",
    "    \n",
    "    def finish(self):\n",
    "        print(f'Автомобиль заглушен')\n",
    "    \n",
    "    def setYear(self, new_year):\n",
    "        self.year = new_year\n",
    "        print(f'Автомобиль {self.year} года')\n",
    "    \n",
    "    def setType(self, new_type):\n",
    "        self.type = new_type\n",
    "        print(f'Автомобиль {self.type}')\n",
    "    \n",
    "    def setColor(self, new_color):\n",
    "        self.color = new_color\n",
    "        print(f'Автомобиль {self.color}')"
   ]
  },
  {
   "cell_type": "code",
   "execution_count": 13,
   "id": "0a801499",
   "metadata": {},
   "outputs": [
    {
     "name": "stdout",
     "output_type": "stream",
     "text": [
      "черный автомобиль седан 2000 года стоит у входа\n"
     ]
    }
   ],
   "source": [
    "Touareg = Car()\n",
    "print(Touareg)"
   ]
  },
  {
   "cell_type": "code",
   "execution_count": 15,
   "id": "ee0137a1",
   "metadata": {},
   "outputs": [
    {
     "name": "stdout",
     "output_type": "stream",
     "text": [
      "Автомобиль заведен\n",
      "Автомобиль заглушен\n",
      "Автомобиль 2022 года\n",
      "Автомобиль внедорожник\n",
      "Автомобиль синий\n",
      "синий автомобиль внедорожник 2022 года стоит у входа\n"
     ]
    }
   ],
   "source": [
    "Touareg.start()\n",
    "Touareg.finish()\n",
    "Touareg.setYear('2022')\n",
    "Touareg.setType('внедорожник')\n",
    "Touareg.setColor('синий')\n",
    "\n",
    "print(Touareg)"
   ]
  },
  {
   "cell_type": "markdown",
   "id": "a2ee9828",
   "metadata": {},
   "source": [
    "##### 3) Допишите функцию Nutrion"
   ]
  },
  {
   "cell_type": "code",
   "execution_count": 49,
   "id": "3a04b58c",
   "metadata": {},
   "outputs": [],
   "source": [
    "class NutritionInfo:\n",
    "    def __init__(self, proteins, carbs, fats):\n",
    "        self.proteins = proteins\n",
    "        self.carbs = carbs\n",
    "        self.fats = fats\n",
    "    \n",
    "    def __add__(self, other):\n",
    "        return NutritionInfo(self.proteins + other.proteins, self.carbs + other.carbs, self.fats + other.fats)\n",
    "    \n",
    "    def __mul__(self, n):\n",
    "        if type(n) != str:\n",
    "            return NutritionInfo(self.proteins * n, self.carbs * n, self.fats * n)\n",
    "        else:\n",
    "            print('Выбрано не верное значение')\n",
    "    \n",
    "    def __str__(self):\n",
    "        return f\"Nutrition p {self.proteins}, c {self.carbs}, f {self.fats}\"\n",
    "        \n",
    "    def energy(self):\n",
    "        return int(self.fats * 9 + (self.carbs + self.proteins) * 4.2)"
   ]
  },
  {
   "cell_type": "code",
   "execution_count": 50,
   "id": "a5cad8da",
   "metadata": {},
   "outputs": [
    {
     "name": "stdout",
     "output_type": "stream",
     "text": [
      "Nutrition p 2, c 4, f 6\n"
     ]
    }
   ],
   "source": [
    "egg = NutritionInfo(1, 2, 3)\n",
    "pastila = NutritionInfo(1, 2, 3)\n",
    "tvorog_9 = NutritionInfo(18, 3, 9)\n",
    "apple = NutritionInfo(0, 25, 0)\n",
    "\n",
    "print(egg + pastila)"
   ]
  },
  {
   "cell_type": "code",
   "execution_count": 51,
   "id": "1b3a40ad",
   "metadata": {},
   "outputs": [],
   "source": [
    "breakfast = apple + tvorog_9 + pastila"
   ]
  },
  {
   "cell_type": "code",
   "execution_count": 52,
   "id": "bba3d50d",
   "metadata": {},
   "outputs": [
    {
     "data": {
      "text/plain": [
       "313"
      ]
     },
     "execution_count": 52,
     "metadata": {},
     "output_type": "execute_result"
    }
   ],
   "source": [
    "breakfast.energy()"
   ]
  },
  {
   "cell_type": "code",
   "execution_count": 55,
   "id": "97e7ff77",
   "metadata": {},
   "outputs": [],
   "source": [
    "breakfast = apple * 3"
   ]
  },
  {
   "cell_type": "code",
   "execution_count": 56,
   "id": "4794a25b",
   "metadata": {},
   "outputs": [
    {
     "data": {
      "text/plain": [
       "315"
      ]
     },
     "execution_count": 56,
     "metadata": {},
     "output_type": "execute_result"
    }
   ],
   "source": [
    "breakfast.energy()"
   ]
  }
 ],
 "metadata": {
  "kernelspec": {
   "display_name": "Python 3 (ipykernel)",
   "language": "python",
   "name": "python3"
  },
  "language_info": {
   "codemirror_mode": {
    "name": "ipython",
    "version": 3
   },
   "file_extension": ".py",
   "mimetype": "text/x-python",
   "name": "python",
   "nbconvert_exporter": "python",
   "pygments_lexer": "ipython3",
   "version": "3.9.7"
  }
 },
 "nbformat": 4,
 "nbformat_minor": 5
}
